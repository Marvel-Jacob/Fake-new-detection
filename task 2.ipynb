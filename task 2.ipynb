{
 "cells": [
  {
   "cell_type": "code",
   "execution_count": 1,
   "metadata": {},
   "outputs": [],
   "source": [
    "import glob\n",
    "import os\n",
    "import re\n",
    "import pandas as pd\n",
    "import numpy as np\n",
    "from nltk.stem import WordNetLemmatizer\n",
    "import nltk\n",
    "\n",
    "from sklearn.model_selection import train_test_split\n",
    "from sklearn.feature_extraction.text import CountVectorizer, TfidfVectorizer, HashingVectorizer\n",
    "from sklearn.naive_bayes import MultinomialNB\n",
    "from sklearn.linear_model import LogisticRegression, PassiveAggressiveClassifier\n",
    "from sklearn.tree import DecisionTreeClassifier\n",
    "from sklearn.ensemble import RandomForestClassifier, AdaBoostClassifier,GradientBoostingClassifier\n",
    "from sklearn.metrics import f1_score,accuracy_score\n",
    "from xgboost import XGBClassifier\n",
    "from sklearn.svm import SVC"
   ]
  },
  {
   "cell_type": "code",
   "execution_count": null,
   "metadata": {},
   "outputs": [],
   "source": [
    "path='C:/Users/Administrator/Desktop/Datathon/datasets-v5/task 2/article'\n",
    "text=pd.DataFrame()\n",
    "# filelist=os.path(path)\n",
    "for files in glob.glob(os.path.join(path,'*.txt')):\n",
    "    file=open(files,'r',encoding='utf-8')\n",
    "    for line in file:\n",
    "        line=re.sub('[^a-zA-Z]',\" \",line)\n",
    "        text_dict={'line':line}\n",
    "        text=text.append(text_dict,ignore_index=True)"
   ]
  },
  {
   "cell_type": "code",
   "execution_count": 50,
   "metadata": {},
   "outputs": [],
   "source": [
    "text.to_csv('column.csv',index=False)"
   ]
  },
  {
   "cell_type": "code",
   "execution_count": 5,
   "metadata": {},
   "outputs": [],
   "source": [
    "path='C:/Users/Administrator/Desktop/Datathon/datasets-v5/test data/test-INPUT/tasks-2-3/test/articles'\n",
    "text_test=pd.DataFrame()\n",
    "# filelist=os.path(path)\n",
    "for files in glob.glob(os.path.join(path,'*.txt')):\n",
    "    file=open(files,'r',encoding='utf-8')\n",
    "    for line in file:\n",
    "        line=re.sub('[^a-zA-Z]',\" \",line)\n",
    "        text_dict={'line':line}\n",
    "        text_test=text_test.append(text_dict,ignore_index=True)"
   ]
  },
  {
   "cell_type": "code",
   "execution_count": 6,
   "metadata": {},
   "outputs": [],
   "source": [
    "text_test.to_csv('column for test.csv',index=False)"
   ]
  },
  {
   "cell_type": "code",
   "execution_count": 2,
   "metadata": {},
   "outputs": [
    {
     "name": "stdout",
     "output_type": "stream",
     "text": [
      "C:\\Users\\Administrator\n"
     ]
    }
   ],
   "source": [
    "path='C:/Users/Administrator/'\n",
    "os.chdir(path)\n",
    "print(os.getcwd())"
   ]
  },
  {
   "cell_type": "code",
   "execution_count": 11,
   "metadata": {},
   "outputs": [
    {
     "data": {
      "text/html": [
       "<div>\n",
       "<style scoped>\n",
       "    .dataframe tbody tr th:only-of-type {\n",
       "        vertical-align: middle;\n",
       "    }\n",
       "\n",
       "    .dataframe tbody tr th {\n",
       "        vertical-align: top;\n",
       "    }\n",
       "\n",
       "    .dataframe thead th {\n",
       "        text-align: right;\n",
       "    }\n",
       "</style>\n",
       "<table border=\"1\" class=\"dataframe\">\n",
       "  <thead>\n",
       "    <tr style=\"text-align: right;\">\n",
       "      <th></th>\n",
       "      <th>id</th>\n",
       "      <th>line_no</th>\n",
       "      <th>line</th>\n",
       "    </tr>\n",
       "  </thead>\n",
       "  <tbody>\n",
       "    <tr>\n",
       "      <th>0</th>\n",
       "      <td>111111111</td>\n",
       "      <td>1</td>\n",
       "      <td>Next plague outbreak in Madagascar could be  s...</td>\n",
       "    </tr>\n",
       "    <tr>\n",
       "      <th>1</th>\n",
       "      <td>111111111</td>\n",
       "      <td>2</td>\n",
       "      <td></td>\n",
       "    </tr>\n",
       "    <tr>\n",
       "      <th>2</th>\n",
       "      <td>111111111</td>\n",
       "      <td>3</td>\n",
       "      <td>Geneva   The World Health Organisation chief o...</td>\n",
       "    </tr>\n",
       "    <tr>\n",
       "      <th>3</th>\n",
       "      <td>111111111</td>\n",
       "      <td>4</td>\n",
       "      <td></td>\n",
       "    </tr>\n",
       "    <tr>\n",
       "      <th>4</th>\n",
       "      <td>111111111</td>\n",
       "      <td>5</td>\n",
       "      <td>The next transmission could be more pronounce...</td>\n",
       "    </tr>\n",
       "  </tbody>\n",
       "</table>\n",
       "</div>"
      ],
      "text/plain": [
       "          id  line_no                                               line\n",
       "0  111111111        1  Next plague outbreak in Madagascar could be  s...\n",
       "1  111111111        2                                                   \n",
       "2  111111111        3  Geneva   The World Health Organisation chief o...\n",
       "3  111111111        4                                                   \n",
       "4  111111111        5   The next transmission could be more pronounce..."
      ]
     },
     "execution_count": 11,
     "metadata": {},
     "output_type": "execute_result"
    }
   ],
   "source": [
    "data_train=pd.read_excel('C:/Users/Administrator/Desktop/Datathon/datasets-v5/task 2/train.xlsx').dropna().drop('labels',axis=1)\n",
    "data_test=pd.read_excel('C:/Users/Administrator\\Desktop/Datathon/datasets-v5/test data/test-INPUT/tasks-2-3/test/test.xlsx').dropna().drop(['Source.Name','Column3'],axis=1)\n",
    "data_test.head()"
   ]
  },
  {
   "cell_type": "code",
   "execution_count": 12,
   "metadata": {},
   "outputs": [
    {
     "data": {
      "text/html": [
       "<div>\n",
       "<style scoped>\n",
       "    .dataframe tbody tr th:only-of-type {\n",
       "        vertical-align: middle;\n",
       "    }\n",
       "\n",
       "    .dataframe tbody tr th {\n",
       "        vertical-align: top;\n",
       "    }\n",
       "\n",
       "    .dataframe thead th {\n",
       "        text-align: right;\n",
       "    }\n",
       "</style>\n",
       "<table border=\"1\" class=\"dataframe\">\n",
       "  <thead>\n",
       "    <tr style=\"text-align: right;\">\n",
       "      <th></th>\n",
       "      <th>id</th>\n",
       "      <th>line_no</th>\n",
       "      <th>type</th>\n",
       "      <th>lines</th>\n",
       "    </tr>\n",
       "  </thead>\n",
       "  <tbody>\n",
       "    <tr>\n",
       "      <th>0</th>\n",
       "      <td>111111112.0</td>\n",
       "      <td>1.0</td>\n",
       "      <td>non-propaganda</td>\n",
       "      <td>US bloggers banned from entering UK</td>\n",
       "    </tr>\n",
       "    <tr>\n",
       "      <th>2</th>\n",
       "      <td>111111112.0</td>\n",
       "      <td>3.0</td>\n",
       "      <td>non-propaganda</td>\n",
       "      <td>Two prominent US bloggers have been banned fro...</td>\n",
       "    </tr>\n",
       "    <tr>\n",
       "      <th>4</th>\n",
       "      <td>111111112.0</td>\n",
       "      <td>5.0</td>\n",
       "      <td>propaganda</td>\n",
       "      <td>Pamela Geller and Robert Spencer co-founded an...</td>\n",
       "    </tr>\n",
       "    <tr>\n",
       "      <th>6</th>\n",
       "      <td>111111112.0</td>\n",
       "      <td>7.0</td>\n",
       "      <td>non-propaganda</td>\n",
       "      <td>They were due to speak at an English Defence L...</td>\n",
       "    </tr>\n",
       "    <tr>\n",
       "      <th>8</th>\n",
       "      <td>111111112.0</td>\n",
       "      <td>9.0</td>\n",
       "      <td>non-propaganda</td>\n",
       "      <td>A government spokesman said individuals whose ...</td>\n",
       "    </tr>\n",
       "  </tbody>\n",
       "</table>\n",
       "</div>"
      ],
      "text/plain": [
       "            id  line_no            type  \\\n",
       "0  111111112.0      1.0  non-propaganda   \n",
       "2  111111112.0      3.0  non-propaganda   \n",
       "4  111111112.0      5.0      propaganda   \n",
       "6  111111112.0      7.0  non-propaganda   \n",
       "8  111111112.0      9.0  non-propaganda   \n",
       "\n",
       "                                               lines  \n",
       "0                US bloggers banned from entering UK  \n",
       "2  Two prominent US bloggers have been banned fro...  \n",
       "4  Pamela Geller and Robert Spencer co-founded an...  \n",
       "6  They were due to speak at an English Defence L...  \n",
       "8  A government spokesman said individuals whose ...  "
      ]
     },
     "execution_count": 12,
     "metadata": {},
     "output_type": "execute_result"
    }
   ],
   "source": [
    "data_train.head()"
   ]
  },
  {
   "cell_type": "code",
   "execution_count": 4,
   "metadata": {},
   "outputs": [
    {
     "data": {
      "text/html": [
       "<div>\n",
       "<style scoped>\n",
       "    .dataframe tbody tr th:only-of-type {\n",
       "        vertical-align: middle;\n",
       "    }\n",
       "\n",
       "    .dataframe tbody tr th {\n",
       "        vertical-align: top;\n",
       "    }\n",
       "\n",
       "    .dataframe thead th {\n",
       "        text-align: right;\n",
       "    }\n",
       "</style>\n",
       "<table border=\"1\" class=\"dataframe\">\n",
       "  <thead>\n",
       "    <tr style=\"text-align: right;\">\n",
       "      <th></th>\n",
       "      <th>id</th>\n",
       "      <th>type</th>\n",
       "      <th>lines</th>\n",
       "    </tr>\n",
       "  </thead>\n",
       "  <tbody>\n",
       "    <tr>\n",
       "      <th>0</th>\n",
       "      <td>111111112.0</td>\n",
       "      <td>non-propaganda</td>\n",
       "      <td>us bloggers banned from entering uk</td>\n",
       "    </tr>\n",
       "    <tr>\n",
       "      <th>2</th>\n",
       "      <td>111111112.0</td>\n",
       "      <td>non-propaganda</td>\n",
       "      <td>two prominent us bloggers have been banned fro...</td>\n",
       "    </tr>\n",
       "    <tr>\n",
       "      <th>4</th>\n",
       "      <td>111111112.0</td>\n",
       "      <td>propaganda</td>\n",
       "      <td>pamela geller and robert spencer cofounded ant...</td>\n",
       "    </tr>\n",
       "    <tr>\n",
       "      <th>6</th>\n",
       "      <td>111111112.0</td>\n",
       "      <td>non-propaganda</td>\n",
       "      <td>they were due to speak at an english defence l...</td>\n",
       "    </tr>\n",
       "    <tr>\n",
       "      <th>8</th>\n",
       "      <td>111111112.0</td>\n",
       "      <td>non-propaganda</td>\n",
       "      <td>a government spokesman said individuals whose ...</td>\n",
       "    </tr>\n",
       "  </tbody>\n",
       "</table>\n",
       "</div>"
      ],
      "text/plain": [
       "            id            type  \\\n",
       "0  111111112.0  non-propaganda   \n",
       "2  111111112.0  non-propaganda   \n",
       "4  111111112.0      propaganda   \n",
       "6  111111112.0  non-propaganda   \n",
       "8  111111112.0  non-propaganda   \n",
       "\n",
       "                                               lines  \n",
       "0                us bloggers banned from entering uk  \n",
       "2  two prominent us bloggers have been banned fro...  \n",
       "4  pamela geller and robert spencer cofounded ant...  \n",
       "6  they were due to speak at an english defence l...  \n",
       "8  a government spokesman said individuals whose ...  "
      ]
     },
     "execution_count": 4,
     "metadata": {},
     "output_type": "execute_result"
    }
   ],
   "source": [
    "new_data_train=pd.DataFrame()\n",
    "new_data_train['id']=data_train['id']\n",
    "new_data_train['type']=data_train['type']\n",
    "new_data_train['lines']=data_train['lines'].str.replace('[^a-zA-Z ]','').str.lower()\n",
    "new_data_train.head()"
   ]
  },
  {
   "cell_type": "code",
   "execution_count": 13,
   "metadata": {},
   "outputs": [
    {
     "data": {
      "text/html": [
       "<div>\n",
       "<style scoped>\n",
       "    .dataframe tbody tr th:only-of-type {\n",
       "        vertical-align: middle;\n",
       "    }\n",
       "\n",
       "    .dataframe tbody tr th {\n",
       "        vertical-align: top;\n",
       "    }\n",
       "\n",
       "    .dataframe thead th {\n",
       "        text-align: right;\n",
       "    }\n",
       "</style>\n",
       "<table border=\"1\" class=\"dataframe\">\n",
       "  <thead>\n",
       "    <tr style=\"text-align: right;\">\n",
       "      <th></th>\n",
       "      <th>id</th>\n",
       "      <th>line_no</th>\n",
       "      <th>lines</th>\n",
       "    </tr>\n",
       "  </thead>\n",
       "  <tbody>\n",
       "    <tr>\n",
       "      <th>0</th>\n",
       "      <td>111111111</td>\n",
       "      <td>1</td>\n",
       "      <td>next plague outbreak in madagascar could be  s...</td>\n",
       "    </tr>\n",
       "    <tr>\n",
       "      <th>1</th>\n",
       "      <td>111111111</td>\n",
       "      <td>2</td>\n",
       "      <td></td>\n",
       "    </tr>\n",
       "    <tr>\n",
       "      <th>2</th>\n",
       "      <td>111111111</td>\n",
       "      <td>3</td>\n",
       "      <td>geneva   the world health organisation chief o...</td>\n",
       "    </tr>\n",
       "    <tr>\n",
       "      <th>3</th>\n",
       "      <td>111111111</td>\n",
       "      <td>4</td>\n",
       "      <td></td>\n",
       "    </tr>\n",
       "    <tr>\n",
       "      <th>4</th>\n",
       "      <td>111111111</td>\n",
       "      <td>5</td>\n",
       "      <td>the next transmission could be more pronounce...</td>\n",
       "    </tr>\n",
       "  </tbody>\n",
       "</table>\n",
       "</div>"
      ],
      "text/plain": [
       "          id  line_no                                              lines\n",
       "0  111111111        1  next plague outbreak in madagascar could be  s...\n",
       "1  111111111        2                                                   \n",
       "2  111111111        3  geneva   the world health organisation chief o...\n",
       "3  111111111        4                                                   \n",
       "4  111111111        5   the next transmission could be more pronounce..."
      ]
     },
     "execution_count": 13,
     "metadata": {},
     "output_type": "execute_result"
    }
   ],
   "source": [
    "new_data_test=pd.DataFrame()\n",
    "new_data_test['id']=data_test['id']\n",
    "new_data_test['line_no']=data_test['line_no']\n",
    "new_data_test['lines']=data_test['line'].str.replace('[^a-zA-Z ]','').str.lower()\n",
    "new_data_test.head()"
   ]
  },
  {
   "cell_type": "code",
   "execution_count": 14,
   "metadata": {},
   "outputs": [],
   "source": [
    "lemma=WordNetLemmatizer()\n",
    "stopwords=nltk.corpus.stopwords.words('english')\n",
    "def clean_data(text):\n",
    "    words=nltk.word_tokenize(text)\n",
    "    words=[lemma.lemmatize(word) for word in words if word not in stopwords]\n",
    "    return \" \".join(words)"
   ]
  },
  {
   "cell_type": "code",
   "execution_count": 19,
   "metadata": {},
   "outputs": [],
   "source": [
    "new_clean_data_train=pd.DataFrame()\n",
    "for i in range(new_data_train.shape[0]):\n",
    "    try:\n",
    "        change_data_train={'lines':str(clean_data(new_data_train.iloc[i]['lines'])),\n",
    "                           'type':new_data_train.iloc[i]['type'],\n",
    "                           'id':new_data_train.iloc[i]['id']}\n",
    "    except:continue\n",
    "    new_clean_data_train=new_clean_data_train.append(change_data_train,ignore_index=True)"
   ]
  },
  {
   "cell_type": "code",
   "execution_count": 20,
   "metadata": {},
   "outputs": [
    {
     "data": {
      "text/html": [
       "<div>\n",
       "<style scoped>\n",
       "    .dataframe tbody tr th:only-of-type {\n",
       "        vertical-align: middle;\n",
       "    }\n",
       "\n",
       "    .dataframe tbody tr th {\n",
       "        vertical-align: top;\n",
       "    }\n",
       "\n",
       "    .dataframe thead th {\n",
       "        text-align: right;\n",
       "    }\n",
       "</style>\n",
       "<table border=\"1\" class=\"dataframe\">\n",
       "  <thead>\n",
       "    <tr style=\"text-align: right;\">\n",
       "      <th></th>\n",
       "      <th>id</th>\n",
       "      <th>lines</th>\n",
       "      <th>type</th>\n",
       "    </tr>\n",
       "  </thead>\n",
       "  <tbody>\n",
       "    <tr>\n",
       "      <th>0</th>\n",
       "      <td>111111112.0</td>\n",
       "      <td>u blogger banned entering uk</td>\n",
       "      <td>non-propaganda</td>\n",
       "    </tr>\n",
       "    <tr>\n",
       "      <th>1</th>\n",
       "      <td>111111112.0</td>\n",
       "      <td>two prominent u blogger banned entering uk hom...</td>\n",
       "      <td>non-propaganda</td>\n",
       "    </tr>\n",
       "    <tr>\n",
       "      <th>2</th>\n",
       "      <td>111111112.0</td>\n",
       "      <td>pamela geller robert spencer cofounded antimus...</td>\n",
       "      <td>propaganda</td>\n",
       "    </tr>\n",
       "    <tr>\n",
       "      <th>3</th>\n",
       "      <td>111111112.0</td>\n",
       "      <td>due speak english defence league march woolwic...</td>\n",
       "      <td>non-propaganda</td>\n",
       "    </tr>\n",
       "    <tr>\n",
       "      <th>4</th>\n",
       "      <td>111111112.0</td>\n",
       "      <td>government spokesman said individual whose pre...</td>\n",
       "      <td>non-propaganda</td>\n",
       "    </tr>\n",
       "  </tbody>\n",
       "</table>\n",
       "</div>"
      ],
      "text/plain": [
       "            id                                              lines  \\\n",
       "0  111111112.0                       u blogger banned entering uk   \n",
       "1  111111112.0  two prominent u blogger banned entering uk hom...   \n",
       "2  111111112.0  pamela geller robert spencer cofounded antimus...   \n",
       "3  111111112.0  due speak english defence league march woolwic...   \n",
       "4  111111112.0  government spokesman said individual whose pre...   \n",
       "\n",
       "             type  \n",
       "0  non-propaganda  \n",
       "1  non-propaganda  \n",
       "2      propaganda  \n",
       "3  non-propaganda  \n",
       "4  non-propaganda  "
      ]
     },
     "execution_count": 20,
     "metadata": {},
     "output_type": "execute_result"
    }
   ],
   "source": [
    "new_clean_data_train.head()"
   ]
  },
  {
   "cell_type": "code",
   "execution_count": 22,
   "metadata": {},
   "outputs": [],
   "source": [
    "new_clean_data_test=pd.DataFrame()\n",
    "for i in range(new_data_test.shape[0]):\n",
    "    try:\n",
    "        change_data_test={'lines':str(clean_data(new_data_test.iloc[i]['lines'])),\n",
    "                           'line_no':new_data_test.iloc[i]['line_no'],\n",
    "                           'id':new_data_test.iloc[i]['id']}\n",
    "    except:continue\n",
    "    new_clean_data_test=new_clean_data_test.append(change_data_test,ignore_index=True)"
   ]
  },
  {
   "cell_type": "code",
   "execution_count": 23,
   "metadata": {},
   "outputs": [
    {
     "data": {
      "text/html": [
       "<div>\n",
       "<style scoped>\n",
       "    .dataframe tbody tr th:only-of-type {\n",
       "        vertical-align: middle;\n",
       "    }\n",
       "\n",
       "    .dataframe tbody tr th {\n",
       "        vertical-align: top;\n",
       "    }\n",
       "\n",
       "    .dataframe thead th {\n",
       "        text-align: right;\n",
       "    }\n",
       "</style>\n",
       "<table border=\"1\" class=\"dataframe\">\n",
       "  <thead>\n",
       "    <tr style=\"text-align: right;\">\n",
       "      <th></th>\n",
       "      <th>line_no</th>\n",
       "      <th>lines</th>\n",
       "    </tr>\n",
       "    <tr>\n",
       "      <th>id</th>\n",
       "      <th></th>\n",
       "      <th></th>\n",
       "    </tr>\n",
       "  </thead>\n",
       "  <tbody>\n",
       "    <tr>\n",
       "      <th>111111111.0</th>\n",
       "      <td>1.0</td>\n",
       "      <td>next plague outbreak madagascar could stronger</td>\n",
       "    </tr>\n",
       "    <tr>\n",
       "      <th>111111111.0</th>\n",
       "      <td>2.0</td>\n",
       "      <td></td>\n",
       "    </tr>\n",
       "    <tr>\n",
       "      <th>111111111.0</th>\n",
       "      <td>3.0</td>\n",
       "      <td>geneva world health organisation chief wednesd...</td>\n",
       "    </tr>\n",
       "    <tr>\n",
       "      <th>111111111.0</th>\n",
       "      <td>4.0</td>\n",
       "      <td></td>\n",
       "    </tr>\n",
       "    <tr>\n",
       "      <th>111111111.0</th>\n",
       "      <td>5.0</td>\n",
       "      <td>next transmission could pronounced stronger di...</td>\n",
       "    </tr>\n",
       "  </tbody>\n",
       "</table>\n",
       "</div>"
      ],
      "text/plain": [
       "             line_no                                              lines\n",
       "id                                                                     \n",
       "111111111.0      1.0     next plague outbreak madagascar could stronger\n",
       "111111111.0      2.0                                                   \n",
       "111111111.0      3.0  geneva world health organisation chief wednesd...\n",
       "111111111.0      4.0                                                   \n",
       "111111111.0      5.0  next transmission could pronounced stronger di..."
      ]
     },
     "execution_count": 23,
     "metadata": {},
     "output_type": "execute_result"
    }
   ],
   "source": [
    "new_clean_data_test=new_clean_data_test.set_index('id')\n",
    "new_clean_data_test.head()"
   ]
  },
  {
   "cell_type": "code",
   "execution_count": 24,
   "metadata": {},
   "outputs": [],
   "source": [
    "# x=new_clean_data.drop('type',axis=1)\n",
    "# y=new_clean_data['type']\n",
    "# train_x,test_x,train_y,test_y=train_test_split(x['lines'],y,test_size=0.2,random_state=100)\n",
    "train_x=new_clean_data_train['lines']\n",
    "train_y=new_clean_data_train['type']\n",
    "test_x=new_clean_data_test['lines']"
   ]
  },
  {
   "cell_type": "code",
   "execution_count": 25,
   "metadata": {},
   "outputs": [],
   "source": [
    "def vector_variable(vector,x1,x2):\n",
    "    vec=vector()\n",
    "    return vec.fit_transform(x1), vec.transform(x2)"
   ]
  },
  {
   "cell_type": "code",
   "execution_count": 26,
   "metadata": {},
   "outputs": [],
   "source": [
    "def get_score(model,x1,y1,x2,y2):\n",
    "    import warnings\n",
    "    warnings.filterwarnings(\"ignore\")\n",
    "    model_name=model\n",
    "    model=model()\n",
    "    model.fit(x1,y1)\n",
    "    pred=model.predict(x2)\n",
    "    (print('f1_score for ',model_name,' is: %0.3f'%f1_score(pred,y2, average='weighted')))  "
   ]
  },
  {
   "cell_type": "code",
   "execution_count": 29,
   "metadata": {},
   "outputs": [],
   "source": [
    "cv_train_x,cv_test_x=vector_variable(CountVectorizer,train_x,test_x)"
   ]
  },
  {
   "cell_type": "code",
   "execution_count": 30,
   "metadata": {},
   "outputs": [
    {
     "name": "stderr",
     "output_type": "stream",
     "text": [
      "C:\\Users\\Administrator\\Anaconda3\\lib\\site-packages\\sklearn\\svm\\base.py:196: FutureWarning: The default value of gamma will change from 'auto' to 'scale' in version 0.22 to account better for unscaled features. Set gamma explicitly to 'auto' or 'scale' to avoid this warning.\n",
      "  \"avoid this warning.\", FutureWarning)\n"
     ]
    }
   ],
   "source": [
    "svm=SVC()\n",
    "svm.fit(cv_train_x,train_y)\n",
    "pred=svm.predict(cv_test_x)\n",
    "update_article=pd.DataFrame({'Articles':test_x.index,'Predicted_type':pred})"
   ]
  },
  {
   "cell_type": "code",
   "execution_count": 31,
   "metadata": {},
   "outputs": [
    {
     "data": {
      "text/html": [
       "<div>\n",
       "<style scoped>\n",
       "    .dataframe tbody tr th:only-of-type {\n",
       "        vertical-align: middle;\n",
       "    }\n",
       "\n",
       "    .dataframe tbody tr th {\n",
       "        vertical-align: top;\n",
       "    }\n",
       "\n",
       "    .dataframe thead th {\n",
       "        text-align: right;\n",
       "    }\n",
       "</style>\n",
       "<table border=\"1\" class=\"dataframe\">\n",
       "  <thead>\n",
       "    <tr style=\"text-align: right;\">\n",
       "      <th></th>\n",
       "      <th>Articles</th>\n",
       "      <th>Predicted_type</th>\n",
       "    </tr>\n",
       "  </thead>\n",
       "  <tbody>\n",
       "    <tr>\n",
       "      <th>0</th>\n",
       "      <td>111111111.0</td>\n",
       "      <td>non-propaganda</td>\n",
       "    </tr>\n",
       "    <tr>\n",
       "      <th>1</th>\n",
       "      <td>111111111.0</td>\n",
       "      <td>non-propaganda</td>\n",
       "    </tr>\n",
       "    <tr>\n",
       "      <th>2</th>\n",
       "      <td>111111111.0</td>\n",
       "      <td>non-propaganda</td>\n",
       "    </tr>\n",
       "    <tr>\n",
       "      <th>3</th>\n",
       "      <td>111111111.0</td>\n",
       "      <td>non-propaganda</td>\n",
       "    </tr>\n",
       "    <tr>\n",
       "      <th>4</th>\n",
       "      <td>111111111.0</td>\n",
       "      <td>non-propaganda</td>\n",
       "    </tr>\n",
       "  </tbody>\n",
       "</table>\n",
       "</div>"
      ],
      "text/plain": [
       "      Articles  Predicted_type\n",
       "0  111111111.0  non-propaganda\n",
       "1  111111111.0  non-propaganda\n",
       "2  111111111.0  non-propaganda\n",
       "3  111111111.0  non-propaganda\n",
       "4  111111111.0  non-propaganda"
      ]
     },
     "execution_count": 31,
     "metadata": {},
     "output_type": "execute_result"
    }
   ],
   "source": [
    "update_article.head()"
   ]
  },
  {
   "cell_type": "code",
   "execution_count": 94,
   "metadata": {},
   "outputs": [
    {
     "name": "stdout",
     "output_type": "stream",
     "text": [
      "f1_score for  <class 'sklearn.linear_model.logistic.LogisticRegression'>  is: 0.742\n",
      "f1_score for  <class 'sklearn.naive_bayes.MultinomialNB'>  is: 0.759\n",
      "f1_score for  <class 'sklearn.linear_model.passive_aggressive.PassiveAggressiveClassifier'>  is: 0.667\n",
      "f1_score for  <class 'sklearn.tree.tree.DecisionTreeClassifier'>  is: 0.656\n",
      "f1_score for  <class 'sklearn.ensemble.forest.RandomForestClassifier'>  is: 0.714\n",
      "f1_score for  <class 'sklearn.ensemble.weight_boosting.AdaBoostClassifier'>  is: 0.823\n",
      "f1_score for  <class 'xgboost.sklearn.XGBClassifier'>  is: 0.848\n",
      "f1_score for  <class 'sklearn.svm.classes.SVC'>  is: 0.850\n"
     ]
    }
   ],
   "source": [
    "# get_score(LogisticRegression,cv_train_x,train_y,cv_test_x,test_y)\n",
    "# get_score(MultinomialNB,cv_train_x,train_y,cv_test_x,test_y)\n",
    "# get_score(PassiveAggressiveClassifier,cv_train_x,train_y,cv_test_x,test_y)\n",
    "# get_score(DecisionTreeClassifier,cv_train_x,train_y,cv_test_x,test_y)\n",
    "# get_score(RandomForestClassifier,cv_train_x,train_y,cv_test_x,test_y)\n",
    "# get_score(AdaBoostClassifier,cv_train_x,train_y,cv_test_x,test_y)\n",
    "# get_score(XGBClassifier,cv_train_x,train_y,cv_test_x,test_y)\n",
    "# get_score(SVC,cv_train_x,train_y,cv_test_x,test_y)"
   ]
  },
  {
   "cell_type": "code",
   "execution_count": 96,
   "metadata": {},
   "outputs": [],
   "source": [
    "# tf_train_x,tf_test_x=vector_variable(TfidfVectorizer,train_x,test_x)"
   ]
  },
  {
   "cell_type": "code",
   "execution_count": 97,
   "metadata": {},
   "outputs": [
    {
     "name": "stdout",
     "output_type": "stream",
     "text": [
      "f1_score for  <class 'sklearn.linear_model.logistic.LogisticRegression'>  is: 0.843\n",
      "f1_score for  <class 'sklearn.naive_bayes.MultinomialNB'>  is: 0.847\n",
      "f1_score for  <class 'sklearn.linear_model.passive_aggressive.PassiveAggressiveClassifier'>  is: 0.686\n",
      "f1_score for  <class 'sklearn.tree.tree.DecisionTreeClassifier'>  is: 0.658\n",
      "f1_score for  <class 'sklearn.ensemble.forest.RandomForestClassifier'>  is: 0.770\n",
      "f1_score for  <class 'sklearn.ensemble.weight_boosting.AdaBoostClassifier'>  is: 0.812\n",
      "f1_score for  <class 'xgboost.sklearn.XGBClassifier'>  is: 0.847\n",
      "f1_score for  <class 'sklearn.svm.classes.SVC'>  is: 0.850\n"
     ]
    }
   ],
   "source": [
    "# get_score(LogisticRegression,tf_train_x,train_y,tf_test_x,test_y)\n",
    "# get_score(MultinomialNB,tf_train_x,train_y,tf_test_x,test_y)\n",
    "# get_score(PassiveAggressiveClassifier,tf_train_x,train_y,tf_test_x,test_y)\n",
    "# get_score(DecisionTreeClassifier,tf_train_x,train_y,tf_test_x,test_y)\n",
    "# get_score(RandomForestClassifier,tf_train_x,train_y,tf_test_x,test_y)\n",
    "# get_score(AdaBoostClassifier,tf_train_x,train_y,tf_test_x,test_y)\n",
    "# get_score(XGBClassifier,tf_train_x,train_y,tf_test_x,test_y)\n",
    "# get_score(SVC,tf_train_x,train_y,tf_test_x,test_y)"
   ]
  },
  {
   "cell_type": "code",
   "execution_count": null,
   "metadata": {},
   "outputs": [],
   "source": []
  },
  {
   "cell_type": "code",
   "execution_count": null,
   "metadata": {},
   "outputs": [],
   "source": []
  }
 ],
 "metadata": {
  "kernelspec": {
   "display_name": "Python 3",
   "language": "python",
   "name": "python3"
  },
  "language_info": {
   "codemirror_mode": {
    "name": "ipython",
    "version": 3
   },
   "file_extension": ".py",
   "mimetype": "text/x-python",
   "name": "python",
   "nbconvert_exporter": "python",
   "pygments_lexer": "ipython3",
   "version": "3.7.1"
  }
 },
 "nbformat": 4,
 "nbformat_minor": 2
}
